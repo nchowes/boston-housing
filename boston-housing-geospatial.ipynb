{
 "cells": [
  {
   "cell_type": "markdown",
   "metadata": {},
   "source": [
    "# Metro Boston Housing Analysis: 2013-2021\n",
    "\n",
    "Metro Boston housing prices and days on market for the period 2013-2021. In this notebook, we explore geospatial  patterns. We'll create maps of the housing metrics (choropleths). \n",
    "\n",
    "Geospatial data contains polygons of Massachusetts municipalities in a geographic coordinate system (WGS84). These data are from [Koordinates](https://koordinates.com).  \n",
    "\n",
    "NCH 2021"
   ]
  },
  {
   "cell_type": "code",
   "execution_count": null,
   "metadata": {},
   "outputs": [],
   "source": [
    "import json\n",
    "import geopandas as gpd\n",
    "import pandas as pd\n",
    "import plotly.express as px"
   ]
  },
  {
   "cell_type": "markdown",
   "metadata": {},
   "source": [
    "## Configure"
   ]
  },
  {
   "cell_type": "code",
   "execution_count": null,
   "metadata": {},
   "outputs": [],
   "source": [
    "export_geojson = False #Enable the first time you run the notebook\n",
    "export_figure  = True  #Write choropleths as png\n",
    "export_html    = False #Write choropleths as interactive html "
   ]
  },
  {
   "cell_type": "markdown",
   "metadata": {},
   "source": [
    "## Helper"
   ]
  },
  {
   "cell_type": "code",
   "execution_count": null,
   "metadata": {},
   "outputs": [],
   "source": [
    "def plot_map(df, geopoly, metric, legend=None, lb=None, ub=None):\n",
    "    \"\"\"Plot choropleth map of metro area metric\"\"\"\n",
    "    if lb is None or ub is None:\n",
    "        lb = data[metric].quantile(.1)\n",
    "        ub = data[metric].quantile(.9)\n",
    "\n",
    "    if not legend:\n",
    "        legend = metric\n",
    "\n",
    "    fig = px.choropleth(df, geojson=geopoly, locations='OBJECTID', color=metric,\n",
    "        color_continuous_scale=\"Viridis\", featureidkey=\"properties.OBJECTID\",\n",
    "        range_color=(lb, ub),\n",
    "        hover_data=[\"City/Town\"],\n",
    "        labels={metric:legend}\n",
    "    )\n",
    "    \n",
    "    fig.update_geos(fitbounds=\"locations\", visible=False)\n",
    "    fig.update_layout(margin={\"r\":0,\"t\":0,\"l\":0,\"b\":0})\n",
    "    fig.show()\n",
    "\n",
    "    return fig"
   ]
  },
  {
   "cell_type": "markdown",
   "metadata": {},
   "source": [
    "## Import and format geospatial\n",
    "\n",
    "Read a municipal (muni) polygons from shapefile and convert to a geojson. "
   ]
  },
  {
   "cell_type": "code",
   "execution_count": null,
   "metadata": {},
   "outputs": [],
   "source": [
    "path_to_data = './data/kx-massachusetts-municipalities-SHP/massachusetts-municipalities.shp'\n",
    "gdf = gpd.read_file( path_to_data )"
   ]
  },
  {
   "cell_type": "code",
   "execution_count": null,
   "metadata": {},
   "outputs": [],
   "source": [
    "gdf.head()"
   ]
  },
  {
   "cell_type": "markdown",
   "metadata": {},
   "source": [
    "These data contain a property with the names of the town/munis. We'll use this to join with the housing dataset after converting both to a lowercase. "
   ]
  },
  {
   "cell_type": "code",
   "execution_count": null,
   "metadata": {},
   "outputs": [],
   "source": [
    "gdf[\"TOWN\"] = gdf[\"TOWN\"].str.lower()"
   ]
  },
  {
   "cell_type": "markdown",
   "metadata": {},
   "source": [
    "Convert to a geojson format. "
   ]
  },
  {
   "cell_type": "code",
   "execution_count": null,
   "metadata": {},
   "outputs": [],
   "source": [
    "filename = \"./data/ma-town-geospatial.json\""
   ]
  },
  {
   "cell_type": "code",
   "execution_count": null,
   "metadata": {},
   "outputs": [],
   "source": [
    "if export_geojson:\n",
    "    df.to_file(filename, driver = \"GeoJSON\")"
   ]
  },
  {
   "cell_type": "markdown",
   "metadata": {},
   "source": [
    "Import geojson"
   ]
  },
  {
   "cell_type": "code",
   "execution_count": null,
   "metadata": {},
   "outputs": [],
   "source": [
    "with open(filename) as geofile:\n",
    "    towns = json.load(geofile)\n",
    "\n",
    "towns[\"features\"][0]"
   ]
  },
  {
   "cell_type": "markdown",
   "metadata": {},
   "source": [
    "## Import housing metrics"
   ]
  },
  {
   "cell_type": "code",
   "execution_count": null,
   "metadata": {},
   "outputs": [],
   "source": [
    "df = pd.read_csv( \"./data/housingData2020-prepared.csv\" )\n",
    "df['City/Town'] = df['City/Town'].str.lower()"
   ]
  },
  {
   "cell_type": "code",
   "execution_count": null,
   "metadata": {},
   "outputs": [],
   "source": [
    "df.head()"
   ]
  },
  {
   "cell_type": "markdown",
   "metadata": {},
   "source": [
    "Merge geospatial and housing data to have a  common key, which is `OBJECTID`."
   ]
  },
  {
   "cell_type": "code",
   "execution_count": null,
   "metadata": {},
   "outputs": [],
   "source": [
    "data = df.merge(gdf[['TOWN', \"OBJECTID\"]], left_on=\"City/Town\", right_on=\"TOWN\")\n",
    "data.head()"
   ]
  },
  {
   "cell_type": "markdown",
   "metadata": {},
   "source": [
    "## Create map"
   ]
  },
  {
   "cell_type": "code",
   "execution_count": null,
   "metadata": {},
   "outputs": [],
   "source": [
    "lb = data[\"2010 Median Price\"].quantile(.1)\n",
    "ub = data[\"2020 Median Price\"].quantile(.9)"
   ]
  },
  {
   "cell_type": "code",
   "execution_count": null,
   "metadata": {},
   "outputs": [],
   "source": [
    "fig = px.choropleth(data, geojson=towns, locations='OBJECTID', color='2010 Median Price',\n",
    "     color_continuous_scale=\"Viridis\", featureidkey=\"properties.OBJECTID\",\n",
    "     range_color=(lb, ub),\n",
    "     hover_data=[\"City/Town\"],\n",
    "     labels={'2010 Median Price':'2010 Median Price'}\n",
    "    )\n",
    "\n",
    "fig.update_geos(fitbounds=\"locations\", visible=False)\n",
    "fig.update_layout(margin={\"r\":0,\"t\":0,\"l\":0,\"b\":0})\n",
    "fig.show()\n",
    "\n",
    "if export_html:\n",
    "    fig.write_html(\"./html/2010-boston-housing-median.html\")\n",
    "if export_figure:\n",
    "    fig.write_image(\"./figures/boston-housing-2010.png\", scale=5)"
   ]
  },
  {
   "cell_type": "code",
   "execution_count": null,
   "metadata": {},
   "outputs": [],
   "source": [
    "fig = plot_map(data, towns, '2019 Median Price', lb=lb, ub=ub )\n",
    "\n",
    "if export_html:\n",
    "    fig.write_html(\"./html/2019-boston-housing-median.html\")"
   ]
  },
  {
   "cell_type": "code",
   "execution_count": null,
   "metadata": {},
   "outputs": [],
   "source": [
    "fig = plot_map(data, towns, '2020 Median Price', lb=lb, ub=ub )\n",
    "\n",
    "if export_html:\n",
    "    fig.write_html(\"./html/2020-boston-housing-median.html\")\n",
    "if export_figure:\n",
    "    fig.write_image(\"./figures/boston-housing-2020.png\", scale=5)"
   ]
  },
  {
   "cell_type": "markdown",
   "metadata": {},
   "source": [
    "## Change"
   ]
  },
  {
   "cell_type": "code",
   "execution_count": null,
   "metadata": {},
   "outputs": [],
   "source": [
    "fig = plot_map(data, towns, \"One-Year % Change in Price\", legend=\"OneYear %Change\" )\n",
    "\n",
    "if export_html:\n",
    "    fig.write_html(\"./html/boston-housing-1yc.html\")\n",
    "if export_figure:\n",
    "    fig.write_image(\"./figures/boston-housing-1yc.png\", scale=5)"
   ]
  },
  {
   "cell_type": "code",
   "execution_count": null,
   "metadata": {},
   "outputs": [],
   "source": [
    "fig = plot_map(data, towns, \"Five-Year % Change in Price\" )\n",
    "\n",
    "if export_html:\n",
    "    fig.write_html(\"./html/boston-housing-5yc.html\")"
   ]
  },
  {
   "cell_type": "code",
   "execution_count": null,
   "metadata": {},
   "outputs": [],
   "source": [
    "fig = plot_map(data, towns, \"Ten-Year % Change in Price\", legend=\"TenYear %Change\" )\n",
    "\n",
    "if export_html:\n",
    "    fig.write_html(\"./html/boston-housing-10yc.html\")\n",
    "if export_figure:\n",
    "    fig.write_image(\"./figures/boston-housing-10yc.png\", scale=5)"
   ]
  }
 ],
 "metadata": {
  "interpreter": {
   "hash": "1cd14a440ae0c82450b713cbb7cc83c63ab30c2d11485fbcceebd0e00a096362"
  },
  "kernelspec": {
   "display_name": "Python 3.9.7 64-bit ('wg': conda)",
   "language": "python",
   "name": "python3"
  },
  "language_info": {
   "codemirror_mode": {
    "name": "ipython",
    "version": 3
   },
   "file_extension": ".py",
   "mimetype": "text/x-python",
   "name": "python",
   "nbconvert_exporter": "python",
   "pygments_lexer": "ipython3",
   "version": "3.9.7"
  },
  "orig_nbformat": 4
 },
 "nbformat": 4,
 "nbformat_minor": 2
}
