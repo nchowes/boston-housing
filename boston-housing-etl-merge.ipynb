{
 "cells": [
  {
   "cell_type": "markdown",
   "metadata": {},
   "source": [
    "# Metro Boston Housing Analysis: 2013-2021"
   ]
  }
 ],
 "metadata": {
  "interpreter": {
   "hash": "1cd14a440ae0c82450b713cbb7cc83c63ab30c2d11485fbcceebd0e00a096362"
  },
  "kernelspec": {
   "display_name": "Python 3.9.7 ('wg')",
   "language": "python",
   "name": "python3"
  },
  "language_info": {
   "codemirror_mode": {
    "name": "ipython",
    "version": 3
   },
   "file_extension": ".py",
   "mimetype": "text/x-python",
   "name": "python",
   "nbconvert_exporter": "python",
   "pygments_lexer": "ipython3",
   "version": "3.9.7"
  },
  "orig_nbformat": 4
 },
 "nbformat": 4,
 "nbformat_minor": 2
}
